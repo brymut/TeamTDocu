{
 "cells": [
  {
   "cell_type": "markdown",
   "metadata": {},
   "source": [
    "This Python warmup notebook aims at walking you briefly through the main tools that will be used in the course.\n",
    "\n",
    "This warmup is compatible with both \n",
    "\n",
    "* `Python 2.7.w :: Anaconda 4.1.x` and \n",
    "* `Python 3.5.y :: Anaconda 4.2.z`\n",
    "\n",
    "tested with `w=12`, `x=1`, `y=2`, `z=0`\n",
    "\n",
    "It assumes you have installed Anaconda properly (otherwise the next cell will generate errors). It is not meant to be complete but rather to show you some basics so that you have some basics on the day. _You will have the opportunity to ask all your questions then too!_\n",
    "\n",
    "How to use a notebook?\n",
    "\n",
    "* **To execute a cell**: click inside the cell, press MAJ+ENTER\n",
    "* **To delete  a cell**: click inside the cell, press ESC then D then D again\n",
    "* **To insert  a cell**: click inside the cell, press ESC then B then B again (will insert below the current cell) or ESC then A then A again (will insert above the current cell)\n",
    "\n",
    "You can also use the help function to check what a specific function does:"
   ]
  },
  {
   "cell_type": "code",
   "execution_count": null,
   "metadata": {
    "collapsed": false
   },
   "outputs": [],
   "source": [
    "help(max)"
   ]
  },
  {
   "cell_type": "markdown",
   "metadata": {},
   "source": [
    "Lastly, a useful trick to know is that you can use TAB to autocomplete what you write in the notebook. You can also use tab after a dot to see all the functions available in a module so if you write \"`<modulename>.`\" then hit TAB a list will appear. This can be very very useful."
   ]
  },
  {
   "cell_type": "markdown",
   "metadata": {},
   "source": [
    "## Table of contents\n",
    "\n",
    "* (1) **Python: the very basics**\n",
    "    1. Basic types\n",
    "    2. Basic operations\n",
    "    3. Brief look at lists\n",
    "    4. Functions\n",
    "    5. Conditional statements\n",
    "    6. Inline functions (lambdas)\n",
    "    7. Loops\n",
    "    8. List comprehensions\n",
    "    9. List vs numpy array\n",
    "    10. Plotting\n",
    "    \n",
    "    \n",
    "* (2) **Pandas primer**\n",
    "    1. A look at DataFrames\n",
    "    2. A few basic operations\n"
   ]
  },
  {
   "cell_type": "markdown",
   "metadata": {},
   "source": [
    "# 1. Python: the very basics\n",
    "## 1.0 Loading libraries"
   ]
  },
  {
   "cell_type": "markdown",
   "metadata": {},
   "source": [
    "In the bootcamp we will make use of a few libraries: `numpy`, `pandas`, `scipy`, and `plotly`, the code below imports them and also imports two functions to make this code compatible whether you are using Python 2.7 or Python 3.x"
   ]
  },
  {
   "cell_type": "code",
   "execution_count": null,
   "metadata": {
    "collapsed": false
   },
   "outputs": [],
   "source": [
    "# in case you're on Python 2.7 this allows compatibility between py2 and py3\n",
    "from __future__ import print_function, division \n",
    "\n",
    "# library for dealing with arrays + some numerical methods\n",
    "import numpy as np\n",
    "# library for dealing with data frames\n",
    "import pandas as pd\n",
    "# library for miscellaneous scientific functions\n",
    "import scipy as scipy\n",
    "\n",
    "# Plotly is a library to display things interactively\n",
    "import plotly.plotly as py\n",
    "from plotly import tools\n",
    "from plotly.graph_objs import *\n",
    "from plotly.offline import download_plotlyjs, init_notebook_mode, iplot\n",
    "init_notebook_mode()\n",
    "\n",
    "print(\"If this is printed and no huge error blocks is printed, you're good to go.\")"
   ]
  },
  {
   "cell_type": "markdown",
   "metadata": {
    "collapsed": true
   },
   "source": [
    "## 1.1 Basic Types\n",
    "\n",
    "Declaring variables in Python is pretty straightforward and so is declaring arrays using `numpy`. To access values of an array you need to use square brackets and specify the range of values you are interested in noting that, in python, arrays are 0-indexed (first element is at `array[0]`). See below for some quick examples."
   ]
  },
  {
   "cell_type": "code",
   "execution_count": null,
   "metadata": {
    "collapsed": false
   },
   "outputs": [],
   "source": [
    "a = 5    # integer\n",
    "b = 6.0  # floating point number\n",
    "\n",
    "# array of floating point number\n",
    "c = np.array([5.0,3.5,-2.3,np.pi,2.0,3.0,-1.0]) \n",
    "\n",
    "# Note the brackets when using the print function, since\n",
    "# we're using the (Python 2,3 compatible) print function \n",
    "# from the __future__ library\n",
    "print('a       :',a)\n",
    "print('c[0]    :',c[0])    # accessing first element of an array\n",
    "print('c[-1]   :',c[-1])   # accessing the last element\n",
    "print('len(c)  :',len(c))  # computing the length\n",
    "print('c.sum() :',c.sum()) # computing the sum\n",
    "\n",
    "# accessing list of values\n",
    "print()\n",
    "print('c[2:4]  :',c[2:4])  # will print the 3d and 4th value (index 2 and 3)\n",
    "print('c[:2]   :',c[:2])   # will print the first 2 values\n",
    "print('c[4:]   :',c[4:])   # print values from 5th onwards\n",
    "print('c[4:-1] :',c[4:-1]) # print values from the 5th onwards without last\n",
    "\n",
    "\n",
    "# using logical operations?\n",
    "print()\n",
    "print('c.sum()==sum(c):',c.sum()==sum(c)) # a boolean: checking for equality\n",
    "print('b<=7.0         :',b<=7.0)          # another boolean"
   ]
  },
  {
   "cell_type": "markdown",
   "metadata": {},
   "source": [
    "## 1.2 Basic Operations\n",
    "\n",
    "Operations on floating point numbers are as you would expect on a standard scientific calculator, for specific mathematical functions, use `np.<function>` (use TAB to see the list of available functions, examples: the exponential):"
   ]
  },
  {
   "cell_type": "code",
   "execution_count": null,
   "metadata": {
    "collapsed": false
   },
   "outputs": [],
   "source": [
    "# basic operations on floats as you'd expect them\n",
    "print( np.exp((2.0 * 3.0 + 5 - np.pi)))"
   ]
  },
  {
   "cell_type": "markdown",
   "metadata": {},
   "source": [
    "Those `np` operations can also be applied on all the elements of an array:"
   ]
  },
  {
   "cell_type": "code",
   "execution_count": null,
   "metadata": {
    "collapsed": false
   },
   "outputs": [],
   "source": [
    "print(np.exp(np.array([2.0,0.0])))"
   ]
  },
  {
   "cell_type": "markdown",
   "metadata": {},
   "source": [
    "You can combine `string`s using the `+` operator:"
   ]
  },
  {
   "cell_type": "code",
   "execution_count": null,
   "metadata": {
    "collapsed": false
   },
   "outputs": [],
   "source": [
    "\"first string \"+\"another string\""
   ]
  },
  {
   "cell_type": "markdown",
   "metadata": {},
   "source": [
    "Formatting is a convenient way to display values of variables within a string"
   ]
  },
  {
   "cell_type": "code",
   "execution_count": null,
   "metadata": {
    "collapsed": false
   },
   "outputs": [],
   "source": [
    "v = np.round(np.pi,3)\n",
    "print(\"Pi rounded to 3 decimals: {} and squared: {}\".format(v,v**2))"
   ]
  },
  {
   "cell_type": "markdown",
   "metadata": {},
   "source": [
    "### A very small note on Python 3 vs Python 2: \n",
    "\n",
    "there are a few differences, some of which actually matter and are imported via the `from __future__ import print_function, division` (there are other differences but these two actually matter in the course).\n",
    "The print function is called with brackets so `print(\"blah\")` instead of `print \"blah\"`, this is in line with the way most functions are called in python.\n",
    "The division returns a float if need be so `3/4==0.75` (now) and not `3/4==0` (before). If you do want the floored division use `3//4` and `3%4` for the remainder.\n",
    "\n",
    "Here all the code generated is Python 2 and Python 3 compliant"
   ]
  },
  {
   "cell_type": "code",
   "execution_count": null,
   "metadata": {
    "collapsed": false
   },
   "outputs": [],
   "source": [
    "print(3/4==0.75)\n",
    "print(3//4==0)"
   ]
  },
  {
   "cell_type": "markdown",
   "metadata": {},
   "source": [
    "## 1.3 A very brief look at lists\n",
    "\n",
    "List are collections of values, for example of integers. \n",
    "In the course we will favour `np.array` for numerical values which offer some built in mathematical methods which is convenient, but will use lists ocasionnally too:"
   ]
  },
  {
   "cell_type": "code",
   "execution_count": null,
   "metadata": {
    "collapsed": false
   },
   "outputs": [],
   "source": [
    "mylist = [1,2,5,7,5]\n",
    "print(mylist[0])   # 0 indexing in python everywhere\n",
    "print(len(mylist)) # length (number of elements) of the list"
   ]
  },
  {
   "cell_type": "markdown",
   "metadata": {},
   "source": [
    "## 1.4 Functions"
   ]
  },
  {
   "cell_type": "markdown",
   "metadata": {},
   "source": [
    "To define a simple function, use the word `def`. \n",
    "Do not forget the colon `:` nor the indentation (it matters in Python). \n",
    "Note the use of `np.sqrt` to call mathematical functions (here the square root):"
   ]
  },
  {
   "cell_type": "code",
   "execution_count": null,
   "metadata": {
    "collapsed": false
   },
   "outputs": [],
   "source": [
    "def aSimpleNorm(var1, var2):\n",
    "    # var1**2 is the square of var1\n",
    "    return np.sqrt(var1**2+var2**2) \n",
    "    \n",
    "# unindenting, we're now out of the scope of the function\n",
    "print(aSimpleNorm(1.0,2.0))"
   ]
  },
  {
   "cell_type": "markdown",
   "metadata": {},
   "source": [
    "## 1.5 Conditional statements\n",
    "\n",
    "You can make conditional statements using `if`-`else`, don't forget the colon `:` or the indentation:"
   ]
  },
  {
   "cell_type": "code",
   "execution_count": null,
   "metadata": {
    "collapsed": false
   },
   "outputs": [],
   "source": [
    "if (aSimpleNorm(1.0,2.0)) < 2.24:\n",
    "    print(\"this is true and will be printed\")\n",
    "else:\n",
    "    print(\"this is not true (and will never be printed)\")"
   ]
  },
  {
   "cell_type": "markdown",
   "metadata": {},
   "source": [
    "In the case of short tests, it is sometimes convenient to write everything in one line:"
   ]
  },
  {
   "cell_type": "code",
   "execution_count": null,
   "metadata": {
    "collapsed": false
   },
   "outputs": [],
   "source": [
    "\"yes\" if (aSimpleNorm(1.0,2.0) < 2.24) else \"no\""
   ]
  },
  {
   "cell_type": "markdown",
   "metadata": {},
   "source": [
    "## 1.6 Inline functions: lambdas\n",
    "\n",
    "Although not typically encouraged, it can be very convenient (and it may be used occasionally in the course) to define one-liner functions. \n",
    "This can be done using the `lambda` keyword. "
   ]
  },
  {
   "cell_type": "code",
   "execution_count": null,
   "metadata": {
    "collapsed": false
   },
   "outputs": [],
   "source": [
    "f = lambda x: x*x+x-1\n",
    "\n",
    "print(f(2))\n",
    "\n",
    "# this is equivalent to \n",
    "\n",
    "def f2(x):\n",
    "    return x*x+x-1\n",
    "\n",
    "print(f2(2))"
   ]
  },
  {
   "cell_type": "markdown",
   "metadata": {},
   "source": [
    "## 1.7 Loops\n",
    "\n",
    "Loops can be defined using `for` and `while`. For the `for` loop, it is convenient to use the `in` keyword to say that a variable should take all values in a collection (e.g. a list). Note also the indentation, as always"
   ]
  },
  {
   "cell_type": "code",
   "execution_count": null,
   "metadata": {
    "collapsed": false
   },
   "outputs": [],
   "source": [
    "for i in [1,7,2,0]:\n",
    "    print(i)"
   ]
  },
  {
   "cell_type": "markdown",
   "metadata": {},
   "source": [
    "We will use a lot of for loops over ordered set of indices in which case it is very useful to consider the `range` function with basic syntax:\n",
    "\n",
    "* `range(5)` corresponds to `[0,1,2,3,4]`\n",
    "* `range(2,5)` corresponds to `[2,3,4]`"
   ]
  },
  {
   "cell_type": "code",
   "execution_count": null,
   "metadata": {
    "collapsed": false
   },
   "outputs": [],
   "source": [
    "for i in range(5): print(i)\n",
    "    \n",
    "print()\n",
    "\n",
    "for i in range(2,5): print(i)"
   ]
  },
  {
   "cell_type": "markdown",
   "metadata": {},
   "source": [
    "The while loop (which we will not use much) works with a condition that has to eventually be broken lest the loop will never stop...:"
   ]
  },
  {
   "cell_type": "code",
   "execution_count": null,
   "metadata": {
    "collapsed": false
   },
   "outputs": [],
   "source": [
    "i = 1\n",
    "while (i<=5):\n",
    "    print(i**2)\n",
    "    i+=1 # increment the counter\n",
    "    \n",
    "print()\n",
    "# this can also be done with a for loop:\n",
    "for i in range(1,6): print(i**2)"
   ]
  },
  {
   "cell_type": "markdown",
   "metadata": {},
   "source": [
    "## 1.8 List comprehension \n",
    "\n",
    "It is sometimes useful and convenient to define a list of objects defined by some relation to the index using a *list comprehension*:"
   ]
  },
  {
   "cell_type": "code",
   "execution_count": null,
   "metadata": {
    "collapsed": false
   },
   "outputs": [],
   "source": [
    "g = lambda x: x * np.pi  # definition of an inline function\n",
    "h = [g(i) for i in range(0,5)]\n",
    "print(h)"
   ]
  },
  {
   "cell_type": "markdown",
   "metadata": {},
   "source": [
    "In the case above, `h` is a list where each element is computed with a function (`g`) over a range. Let's give another simple example using strings to fix ideas:"
   ]
  },
  {
   "cell_type": "code",
   "execution_count": null,
   "metadata": {
    "collapsed": false
   },
   "outputs": [],
   "source": [
    "h2 = [\"Hello \"+s+\"!\" for s in [\"Alice\", \"Bob\", \"Charlotte\"]]\n",
    "\n",
    "for message in h2:\n",
    "    print(message)"
   ]
  },
  {
   "cell_type": "markdown",
   "metadata": {},
   "source": [
    "## 1.9 Difference between List and Numpy Arrays\n",
    "\n",
    "Essentially, `Numpy arrays` natively allow a number of useful (mathematical) operations where a `list` does not. For example if you want to compute the \"dot product\" of two vectors (sum of the product of each elements of two vectors, so for exaple `(1 2 3) dot (3 2 1) = 1*3 + 2*2 + 3*1 = 10`). In the course we will mostly use numpy arrays."
   ]
  },
  {
   "cell_type": "code",
   "execution_count": null,
   "metadata": {
    "collapsed": false
   },
   "outputs": [],
   "source": [
    "list1 = [1,2,3]\n",
    "list2 = [3,2,1]\n",
    "arr1  = np.array(list1)\n",
    "arr2  = np.array(list2)\n",
    "\n",
    "# using lists, you have to manually code the dot product:\n",
    "resList = 0\n",
    "for i in range(0,len(list1)):\n",
    "    resList += list1[i]*list2[i]\n",
    "\n",
    "print(resList)\n",
    "# with the numpy array, it's directly available:\n",
    "print(np.dot(arr1,arr2))"
   ]
  },
  {
   "cell_type": "markdown",
   "metadata": {},
   "source": [
    "## 1.10 Plotting\n",
    "\n",
    "When plotting in python, you can consider several options, two in particular are noteworthy: \n",
    "    \n",
    "* `matplotlib`, and\n",
    "* `pyplot`.\n",
    "\n",
    "The first one is a bit more austere but can be used to generate graphs with a huge amount of flexibility (and it is reasonably easy to do so). We encourage you to consider the package `seaborn` (can be installed with `pip`) when using `matplotlib` which tends to make everything look a lot nicer.\n",
    "\n",
    "The second one is more interactive and fun to use which is great for working in the notebook and showing/discussing your results collaboratively. It consumes more memory though (and if you have a very big notebook this can quickly become an issue). It also offers a somewhat more constrained framework to work in.\n",
    "\n",
    "In this workshop we will focus on using the second option."
   ]
  },
  {
   "cell_type": "code",
   "execution_count": null,
   "metadata": {
    "collapsed": false
   },
   "outputs": [],
   "source": [
    "xx  = np.linspace(-5,5,100)\n",
    "yy  = np.sin(np.exp(-xx**2))\n",
    "yy2 = np.cos(np.exp(-xx**2))\n",
    "\n",
    "line1 = Scatter(x=xx,y=yy,  name=\"Sin-based\")\n",
    "line2 = Scatter(x=xx,y=yy2, name=\"Cos-based\")\n",
    "data = [line1,line2]\n",
    "\n",
    "layout = Layout(\n",
    "    xaxis = dict(title = \"XAxis\"),\n",
    "    yaxis = dict(title = \"YAxis\"),\n",
    "    width = 700,\n",
    ")\n",
    "\n",
    "fig = dict(data = data, layout = layout)\n",
    "iplot(fig)"
   ]
  },
  {
   "cell_type": "markdown",
   "metadata": {
    "collapsed": true
   },
   "source": [
    "# 2. Pandas Primer\n",
    "## 2.1 A look at DataFrames"
   ]
  },
  {
   "cell_type": "markdown",
   "metadata": {
    "collapsed": true
   },
   "source": [
    "Throughout this workshop you will be using `pandas` which is a python library that you could see as \"Excel for Python\". `pandas` is built on top of `numpy`. It takes care of making it easy to work with tabular data in providing selections, merging, calculating statistics, filling in missing values etc.\n",
    "\n",
    "When you load data with `pandas` it is put into a `DataFrame`. These objects have the structure illustrated below. On the left you see a \"table\" as you may intuitively think about one, and on the right you see a DataFrame where:\n",
    "\n",
    "* each column of raw values corresponds to a `numpy` array\n",
    "* each column + its column name + the row indices form `Series` object in `pandas`\n",
    "* the collection of all `Series` forms the `DataFrame`.\n",
    "\n",
    "![Table Anatomy Class](./table_anatomy.png)"
   ]
  },
  {
   "cell_type": "markdown",
   "metadata": {},
   "source": [
    "Let's now have a look at a data file `testData.dat`, it should look like:\n",
    "\n",
    "![A look at data](./lookAtData.png)\n",
    "\n",
    "As you can see in the raw data, it has three columns (no matter the meaning) with column names `D`, `X` and `Y`. The columns are separated by tabs. This can be loaded in pandas easily using the `read_csv` function and a quick peek can be obtained by using `head`:"
   ]
  },
  {
   "cell_type": "code",
   "execution_count": null,
   "metadata": {
    "collapsed": false
   },
   "outputs": [],
   "source": [
    "# by default it assumes the separator is a comma (,)\n",
    "# here it is not (it is a tab or '\\t') so we have to indicate it\n",
    "data = pd.read_csv(\"testData.dat\", sep=\"\\t\")\n",
    "data.head()"
   ]
  },
  {
   "cell_type": "markdown",
   "metadata": {},
   "source": [
    "## 2.2 A few basic operations\n",
    "\n",
    "In the workshop you will discover far more operations that can be used with `DataFrames`, here are a  few useful ones to give you a taste.\n",
    "\n",
    "### 2.2.1 Acessing elements\n",
    "\n",
    "Columns can be accessed directly using their column names, the underlying numpy array can then be accessed by using the `values` function:"
   ]
  },
  {
   "cell_type": "code",
   "execution_count": null,
   "metadata": {
    "collapsed": false
   },
   "outputs": [],
   "source": [
    "colD = data['X']\n",
    "colD.values[:5]"
   ]
  },
  {
   "cell_type": "markdown",
   "metadata": {},
   "source": [
    "### 2.2.2 Removing columns or rows\n",
    "\n",
    "This can be done by using the `drop` function, indicating the column or row name and the axis (0 for a row, 1 for a column):"
   ]
  },
  {
   "cell_type": "code",
   "execution_count": null,
   "metadata": {
    "collapsed": false
   },
   "outputs": [],
   "source": [
    "data.drop('X',axis=1).head()"
   ]
  },
  {
   "cell_type": "code",
   "execution_count": null,
   "metadata": {
    "collapsed": false
   },
   "outputs": [],
   "source": [
    "data.drop(2,axis=0).head()"
   ]
  },
  {
   "cell_type": "markdown",
   "metadata": {},
   "source": [
    "### 2.2.3 Concatenating data frames\n",
    "\n",
    "Assuming their dimensions are compatible DataFrames can be combined vertically or horizontally. Here we show how to do this using twice the same array (not very useful but it shows how the method can be used)\n",
    "\n"
   ]
  },
  {
   "cell_type": "code",
   "execution_count": null,
   "metadata": {
    "collapsed": false
   },
   "outputs": [],
   "source": [
    "pd.concat([data,data]).head() # by default it is done vertically (one array after the other)"
   ]
  },
  {
   "cell_type": "code",
   "execution_count": null,
   "metadata": {
    "collapsed": false
   },
   "outputs": [],
   "source": [
    "pd.concat([data,data],axis=1).head()"
   ]
  },
  {
   "cell_type": "markdown",
   "metadata": {},
   "source": [
    "**You are now ready to go. Don't worry if you still have questions, the workshop will still teach you a lot and allow you to ask many questions!**"
   ]
  }
 ],
 "metadata": {
  "anaconda-cloud": {},
  "kernelspec": {
   "display_name": "Python [conda root]",
   "language": "python",
   "name": "conda-root-py"
  },
  "language_info": {
   "codemirror_mode": {
    "name": "ipython",
    "version": 3
   },
   "file_extension": ".py",
   "mimetype": "text/x-python",
   "name": "python",
   "nbconvert_exporter": "python",
   "pygments_lexer": "ipython3",
   "version": "3.5.2"
  }
 },
 "nbformat": 4,
 "nbformat_minor": 0
}
